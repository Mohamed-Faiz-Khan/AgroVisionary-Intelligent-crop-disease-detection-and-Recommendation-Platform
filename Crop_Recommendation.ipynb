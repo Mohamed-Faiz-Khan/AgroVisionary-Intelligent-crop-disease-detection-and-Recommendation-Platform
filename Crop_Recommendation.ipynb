{
 "cells": [
  {
   "cell_type": "code",
   "execution_count": 32,
   "id": "01ad81c4-167e-448d-96fa-549c309dca25",
   "metadata": {},
   "outputs": [
    {
     "name": "stdout",
     "output_type": "stream",
     "text": [
      "Random Forest Classifier accuracy: 0.9931818181818182\n",
      "mango is the best crop to be cultivated\n"
     ]
    },
    {
     "name": "stderr",
     "output_type": "stream",
     "text": [
      "C:\\Users\\faiza\\anaconda3\\Lib\\site-packages\\sklearn\\base.py:493: UserWarning: X does not have valid feature names, but StandardScaler was fitted with feature names\n",
      "  warnings.warn(\n"
     ]
    }
   ],
   "source": [
    "import pandas as pd\n",
    "import numpy as np\n",
    "from sklearn.model_selection import train_test_split\n",
    "from sklearn.preprocessing import StandardScaler, MinMaxScaler\n",
    "from sklearn.ensemble import RandomForestClassifier\n",
    "from sklearn.metrics import accuracy_score\n",
    "\n",
    "crop = pd.read_csv(\"Crop_recommendation.csv\")\n",
    "\n",
    "crop_dict = {\n",
    "    'rice': 1, 'maize': 2, 'jute': 3, 'cotton': 4, 'coconut': 5, 'papaya': 6, 'orange': 7,\n",
    "    'apple': 8, 'muskmelon': 9, 'watermelon': 10, 'grapes': 11, 'mango': 12, 'banana': 13,\n",
    "    'pomegranate': 14, 'lentil': 15, 'blackgram': 16, 'mungbean': 17, 'mothbeans': 18,\n",
    "    'pigeonpeas': 19, 'kidneybeans': 20, 'chickpea': 21, 'coffee': 22\n",
    "}\n",
    "\n",
    "crop['label'] = crop['label'].map(crop_dict)\n",
    "\n",
    "X = crop.drop('label', axis=1)\n",
    "y = crop['label']\n",
    "\n",
    "X_train, X_test, y_train, y_test = train_test_split(X, y, test_size=0.2, random_state=42)\n",
    "\n",
    "sc = StandardScaler()\n",
    "ms = MinMaxScaler()\n",
    "ms.fit(X_train)\n",
    "sc.fit(X_train)\n",
    "X_train = sc.transform(X_train)\n",
    "X_test = sc.transform(X_test)\n",
    "\n",
    "randclf = RandomForestClassifier()\n",
    "randclf.fit(X_train, y_train)\n",
    "\n",
    "y_pred = randclf.predict(X_test)\n",
    "accuracy = accuracy_score(y_test, y_pred)\n",
    "print(f\"Random Forest Classifier accuracy: {accuracy}\")\n",
    "\n",
    "def recommendation(N, P, K, temperature, humidity, ph, rainfall):\n",
    "    features = np.array([[N, P, K, temperature, humidity, ph, rainfall]])\n",
    "    features = sc.transform(features)  # Standardize the features\n",
    "    prediction = randclf.predict(features)\n",
    "    return prediction[0]\n",
    "\n",
    "N = 40\n",
    "P = 26\n",
    "K = 49\n",
    "temperature = 38\n",
    "humidity = 60\n",
    "ph = 5.78\n",
    "rainfall = 140\n",
    "\n",
    "predict = recommendation(N, P, K, temperature, humidity, ph, rainfall)\n",
    "reverse_crop_dict = {v: k for k, v in crop_dict.items()}\n",
    "\n",
    "if predict in reverse_crop_dict:\n",
    "    crop_name = reverse_crop_dict[predict]\n",
    "    print(f\"{crop_name} is the best crop to be cultivated\")\n",
    "else:\n",
    "    print(\"Sorry, we are not able to recommend a proper crop for this environment\")\n"
   ]
  },
  {
   "cell_type": "code",
   "execution_count": 14,
   "id": "910183cb-25a7-46fd-882f-36ae737e008c",
   "metadata": {},
   "outputs": [],
   "source": [
    "import pickle \n",
    "pickle.dump(randclf,open('Crop_Recommendation_Model.pkl','wb'))"
   ]
  },
  {
   "cell_type": "code",
   "execution_count": 16,
   "id": "9c95f706-5e9d-409d-b2c4-1c7bc34c50fa",
   "metadata": {},
   "outputs": [],
   "source": [
    "pickle.dump(sc,open('standscaler.pkl','wb'))"
   ]
  },
  {
   "cell_type": "code",
   "execution_count": 28,
   "id": "67408d2c-7159-49c8-8390-1bca40c8f161",
   "metadata": {},
   "outputs": [],
   "source": []
  },
  {
   "cell_type": "code",
   "execution_count": 36,
   "id": "ff452840-03da-45a7-9fed-8708fcd9927a",
   "metadata": {},
   "outputs": [],
   "source": [
    "pickle.dump(ms,open('minmaxscaler.pkl','wb'))"
   ]
  },
  {
   "cell_type": "code",
   "execution_count": null,
   "id": "fb37dac1-a63d-4217-bbd0-ad14c38456b1",
   "metadata": {},
   "outputs": [],
   "source": []
  }
 ],
 "metadata": {
  "kernelspec": {
   "display_name": "Python 3 (ipykernel)",
   "language": "python",
   "name": "python3"
  },
  "language_info": {
   "codemirror_mode": {
    "name": "ipython",
    "version": 3
   },
   "file_extension": ".py",
   "mimetype": "text/x-python",
   "name": "python",
   "nbconvert_exporter": "python",
   "pygments_lexer": "ipython3",
   "version": "3.12.4"
  }
 },
 "nbformat": 4,
 "nbformat_minor": 5
}
